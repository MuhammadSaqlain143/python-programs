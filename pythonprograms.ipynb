{
  "nbformat": 4,
  "nbformat_minor": 0,
  "metadata": {
    "colab": {
      "provenance": [],
      "authorship_tag": "ABX9TyOFwEcq+y+sg9WJXOzFqLeu",
      "include_colab_link": true
    },
    "kernelspec": {
      "name": "python3",
      "display_name": "Python 3"
    },
    "language_info": {
      "name": "python"
    }
  },
  "cells": [
    {
      "cell_type": "markdown",
      "metadata": {
        "id": "view-in-github",
        "colab_type": "text"
      },
      "source": [
        "<a href=\"https://colab.research.google.com/github/MuhammadSaqlain143/python-programs/blob/main/pythonprograms.ipynb\" target=\"_parent\"><img src=\"https://colab.research.google.com/assets/colab-badge.svg\" alt=\"Open In Colab\"/></a>"
      ]
    },
    {
      "cell_type": "code",
      "execution_count": null,
      "metadata": {
        "colab": {
          "base_uri": "https://localhost:8080/"
        },
        "id": "GMfbZ8QOXgrV",
        "outputId": "2f9176b2-037f-4759-bc59-322c7623243a"
      },
      "outputs": [
        {
          "output_type": "stream",
          "name": "stdout",
          "text": [
            "Hello Saqlain\n"
          ]
        }
      ],
      "source": [
        "#first hello world program\n",
        "print (\"Hello Saqlain\")"
      ]
    },
    {
      "cell_type": "code",
      "source": [
        "# Simple Sum of two numbers program\n",
        "a = 1\n",
        "b = 6\n",
        "sum = a + b\n",
        "print (sum)"
      ],
      "metadata": {
        "colab": {
          "base_uri": "https://localhost:8080/"
        },
        "id": "TslDp9d2YNSs",
        "outputId": "c28854f6-5947-4c6b-d5b0-e12ad4f52fa2"
      },
      "execution_count": null,
      "outputs": [
        {
          "output_type": "stream",
          "name": "stdout",
          "text": [
            "7\n"
          ]
        }
      ]
    },
    {
      "cell_type": "code",
      "source": [],
      "metadata": {
        "id": "MqeEYgcDYgWN"
      },
      "execution_count": null,
      "outputs": []
    }
  ]
}