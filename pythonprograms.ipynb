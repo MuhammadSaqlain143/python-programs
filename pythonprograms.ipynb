{
  "nbformat": 4,
  "nbformat_minor": 0,
  "metadata": {
    "colab": {
      "provenance": [],
      "authorship_tag": "ABX9TyP4X1hzkWIM14p7l+Gez7Hr",
      "include_colab_link": true
    },
    "kernelspec": {
      "name": "python3",
      "display_name": "Python 3"
    },
    "language_info": {
      "name": "python"
    }
  },
  "cells": [
    {
      "cell_type": "markdown",
      "metadata": {
        "id": "view-in-github",
        "colab_type": "text"
      },
      "source": [
        "<a href=\"https://colab.research.google.com/github/MuhammadSaqlain143/python-programs/blob/main/pythonprograms.ipynb\" target=\"_parent\"><img src=\"https://colab.research.google.com/assets/colab-badge.svg\" alt=\"Open In Colab\"/></a>"
      ]
    },
    {
      "cell_type": "code",
      "execution_count": null,
      "metadata": {
        "colab": {
          "base_uri": "https://localhost:8080/"
        },
        "id": "GMfbZ8QOXgrV",
        "outputId": "2f9176b2-037f-4759-bc59-322c7623243a"
      },
      "outputs": [
        {
          "output_type": "stream",
          "name": "stdout",
          "text": [
            "Hello Saqlain\n"
          ]
        }
      ],
      "source": [
        "#first hello world program\n",
        "print (\"Hello Saqlain\")"
      ]
    },
    {
      "cell_type": "code",
      "source": [
        "# Simple Sum of two numbers program\n",
        "a = 1\n",
        "b = 6\n",
        "sum = a + b\n",
        "print (sum)"
      ],
      "metadata": {
        "colab": {
          "base_uri": "https://localhost:8080/"
        },
        "id": "TslDp9d2YNSs",
        "outputId": "c28854f6-5947-4c6b-d5b0-e12ad4f52fa2"
      },
      "execution_count": null,
      "outputs": [
        {
          "output_type": "stream",
          "name": "stdout",
          "text": [
            "7\n"
          ]
        }
      ]
    },
    {
      "cell_type": "code",
      "source": [
        "# Simple string variable function\n",
        "v = \"Sunny Qureshi\"\n",
        "print (v)"
      ],
      "metadata": {
        "id": "MqeEYgcDYgWN",
        "colab": {
          "base_uri": "https://localhost:8080/"
        },
        "outputId": "d3c7c9cc-1ba2-4188-e76d-cc67c1f89e09"
      },
      "execution_count": 3,
      "outputs": [
        {
          "output_type": "stream",
          "name": "stdout",
          "text": [
            "Sunny Qureshi\n"
          ]
        }
      ]
    },
    {
      "cell_type": "code",
      "source": [
        "#To check length of string\n",
        "a = \"Hello Saqlain\"\n",
        "print (len (a))"
      ],
      "metadata": {
        "colab": {
          "base_uri": "https://localhost:8080/"
        },
        "id": "hiKFco1Fa6DI",
        "outputId": "fff4c160-2f06-44e2-9bfe-0daa2a6dc4e8"
      },
      "execution_count": 1,
      "outputs": [
        {
          "output_type": "stream",
          "name": "stdout",
          "text": [
            "13\n"
          ]
        }
      ]
    },
    {
      "cell_type": "code",
      "source": [
        "#To check position of element in string\n",
        "a = 'Hello world'\n",
        "print(a[2])"
      ],
      "metadata": {
        "colab": {
          "base_uri": "https://localhost:8080/"
        },
        "id": "MGyOHLzvf72J",
        "outputId": "983fea47-c3ef-42a6-baa1-90ef05106408"
      },
      "execution_count": 2,
      "outputs": [
        {
          "output_type": "stream",
          "name": "stdout",
          "text": [
            "l\n"
          ]
        }
      ]
    },
    {
      "cell_type": "code",
      "source": [
        "# Slicing in programs\n",
        "s = 'Talha Zubair'\n",
        "print(a[1 : 3])"
      ],
      "metadata": {
        "colab": {
          "base_uri": "https://localhost:8080/"
        },
        "id": "O7VYMQ5bhqbD",
        "outputId": "270b0104-06b0-4f97-ca7f-dc07dba12d79"
      },
      "execution_count": 6,
      "outputs": [
        {
          "output_type": "stream",
          "name": "stdout",
          "text": [
            "el\n"
          ]
        }
      ]
    },
    {
      "cell_type": "code",
      "source": [
        "#lower to upper case\n",
        "p = 'mohsin raza'\n",
        "print(p.upper())"
      ],
      "metadata": {
        "colab": {
          "base_uri": "https://localhost:8080/"
        },
        "id": "e28YQKdIiUka",
        "outputId": "79a27c7f-f691-4349-bacf-f2e549d9455f"
      },
      "execution_count": 7,
      "outputs": [
        {
          "output_type": "stream",
          "name": "stdout",
          "text": [
            "MOHSIN RAZA\n"
          ]
        }
      ]
    },
    {
      "cell_type": "code",
      "source": [
        "#Concatenation of two variable strings\n",
        "a = 'hassan '\n",
        "b = 'Ali'\n",
        "c = a + b\n",
        "print(c.upper())"
      ],
      "metadata": {
        "colab": {
          "base_uri": "https://localhost:8080/"
        },
        "id": "hM41D1PGjViB",
        "outputId": "c880fdfb-897d-45db-ca10-64409ba769ed"
      },
      "execution_count": 9,
      "outputs": [
        {
          "output_type": "stream",
          "name": "stdout",
          "text": [
            "HASSAN ALI\n"
          ]
        }
      ]
    },
    {
      "cell_type": "code",
      "source": [
        "# Format string with int\n",
        "age = 24\n",
        "intro = 'My Name is Saqlain and i am {}'\n",
        "print (intro.format(age))"
      ],
      "metadata": {
        "colab": {
          "base_uri": "https://localhost:8080/"
        },
        "id": "BLufx87zju5v",
        "outputId": "b8f9a53e-3637-48ac-ef24-7d7aae91cb6d"
      },
      "execution_count": 11,
      "outputs": [
        {
          "output_type": "stream",
          "name": "stdout",
          "text": [
            "My Name is Saqlain and i am 24\n"
          ]
        }
      ]
    }
  ]
}